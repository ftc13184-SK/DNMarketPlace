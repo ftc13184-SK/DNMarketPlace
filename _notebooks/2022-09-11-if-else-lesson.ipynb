{
 "cells": [
  {
   "cell_type": "markdown",
   "metadata": {},
   "source": [
    "# Boolean Expressions and If Statement Lesson\n",
    "- toc: true \n",
    "- badges: true\n",
    "- comments: true\n",
    "- categories: [jupyter]\n",
    "- image: images/chart-preview.png"
   ]
  },
  {
   "cell_type": "markdown",
   "metadata": {},
   "source": [
    "## Boolean Expressions\n",
    "\n",
    "- Boolean expressions are used to illustrate true or false statements in code. They use a data type called boolean to format the code. "
   ]
  },
  {
   "cell_type": "code",
   "execution_count": 10,
   "metadata": {
    "vscode": {
     "languageId": "java"
    }
   },
   "outputs": [
    {
     "name": "stdout",
     "output_type": "stream",
     "text": [
      "It is sunny.\n"
     ]
    }
   ],
   "source": [
    "import java.util.Scanner;\n",
    "public class Booleans //define class\n",
    "{\n",
    "    public static void main(String[] args) //java main method\n",
    "{\n",
    "    boolean isSunny = true; //declare the boolean variables\n",
    "    boolean isRainy = false; \n",
    "    if (isSunny)\n",
    "    {\n",
    "        System.out.println(\"It is sunny.\");\n",
    "    }\n",
    "    else\n",
    "    {\n",
    "        System.out.println(\"It is rainy.\");\n",
    "    }\n",
    "}\n",
    "}\n",
    "Booleans.main(null);"
   ]
  },
  {
   "cell_type": "markdown",
   "metadata": {},
   "source": [
    "## If else Statements\n",
    "\n",
    "- If else statements are used in Java to execute a certain action if certain conditions are met. If the conditions are not met, there may be an \"else\" statement to perform a different action. "
   ]
  },
  {
   "cell_type": "markdown",
   "metadata": {},
   "source": [
    "- If statements can be simple or complex in nature. Here is an example of a simple if statement "
   ]
  },
  {
   "cell_type": "code",
   "execution_count": 17,
   "metadata": {
    "vscode": {
     "languageId": "java"
    }
   },
   "outputs": [
    {
     "name": "stdout",
     "output_type": "stream",
     "text": [
      "The number is greater than 2\n"
     ]
    }
   ],
   "source": [
    "import java.util.Scanner;\n",
    "public class Test //define class\n",
    "{\n",
    "    public static void main(String[] args) //java main method\n",
    "{\n",
    "    int num = 10; //declare the integer variable \n",
    "\n",
    "    if (num > 2) //if statement format with parameters \n",
    "    {\n",
    "        System.out.println(\"The number is greater than 2\"); //if the number is greater than zero, print this statement. \n",
    "    }\n",
    "}\n",
    "}\n",
    "Test.main(null);"
   ]
  },
  {
   "cell_type": "markdown",
   "metadata": {},
   "source": [
    "- If statements often use else statements to specify what the code should do if the first condition is not met. "
   ]
  },
  {
   "cell_type": "code",
   "execution_count": 16,
   "metadata": {
    "vscode": {
     "languageId": "java"
    }
   },
   "outputs": [
    {
     "name": "stdout",
     "output_type": "stream",
     "text": [
      "The number is not greater than 2\n"
     ]
    }
   ],
   "source": [
    "import java.util.Scanner;\n",
    "public class Else \n",
    "{\n",
    "    public static void main(String[] args)\n",
    "{\n",
    "    int num = 1; \n",
    "    if (num > 2)\n",
    "    {\n",
    "        System.out.println(\"The number is greater than 2\");\n",
    "    }\n",
    "    else //the computer will run this portion if the number is less than or equal to 2\n",
    "    {\n",
    "        System.out.println(\"The number is not greater than 2\"); //This is what the computer will print\n",
    "    }\n",
    "}\n",
    "}\n",
    "Else.main(null);"
   ]
  },
  {
   "cell_type": "markdown",
   "metadata": {},
   "source": [
    "## Switch Statements\n",
    "- Switch statements can be used in adition to if-else statements to switch between different commands in code. For exmple, a user can enter whitch case they would like to run or that computer will go through all of the switches. "
   ]
  },
  {
   "cell_type": "code",
   "execution_count": 2,
   "metadata": {
    "vscode": {
     "languageId": "java"
    }
   },
   "outputs": [
    {
     "name": "stdout",
     "output_type": "stream",
     "text": [
      "The number is not greater than 2\n",
      "The number is not greater than 3\n",
      "The number is not greater than 7\n",
      "The number is less than 3\n",
      "The number is greater than 4\n",
      "Thanks for running this code.\n"
     ]
    }
   ],
   "source": [
    "import java.util.Scanner;\n",
    "public class switchExample\n",
    "{\n",
    "    public static void main(String[] args)\n",
    "{\n",
    "    int num = 1; \n",
    "    switch(num)\n",
    "    {\n",
    "    case 1: \n",
    "        if (num > 2)\n",
    "        {\n",
    "            System.out.println(\"The number is greater than 2\");\n",
    "        }\n",
    "        else //the computer will run this portion if the number is less than or equal to 2\n",
    "        {\n",
    "            System.out.println(\"The number is not greater than 2\"); //This is what the computer will print\n",
    "        }\n",
    "    case 2: \n",
    "        if (num > 3)\n",
    "        {\n",
    "            System.out.println(\"The number is greater than 3\");\n",
    "        }\n",
    "        else //the computer will run this portion if the number is less than or equal to 2\n",
    "        {\n",
    "            System.out.println(\"The number is not greater than 3\"); //This is what the computer will print\n",
    "        }\n",
    "    case 3: \n",
    "        if (num > 7)\n",
    "        {\n",
    "            System.out.println(\"The number is greater than 7\");\n",
    "        }\n",
    "        else //the computer will run this portion if the number is less than or equal to 2\n",
    "        {\n",
    "            System.out.println(\"The number is not greater than 7\"); //This is what the computer will print\n",
    "        }\n",
    "    case 4: \n",
    "        if (num < 3)\n",
    "        {\n",
    "            System.out.println(\"The number is less than 3\");\n",
    "        }\n",
    "        else //the computer will run this portion if the number is less than or equal to 2\n",
    "        {\n",
    "            System.out.println(\"The number is greater than 3\"); //This is what the computer will print\n",
    "        }\n",
    "    case 5: \n",
    "        if (num > 4)\n",
    "        {\n",
    "            System.out.println(\"The number is not greater than 4\");\n",
    "        }\n",
    "        else //the computer will run this portion if the number is less than or equal to 2\n",
    "        {\n",
    "            System.out.println(\"The number is greater than 4\"); //This is what the computer will print\n",
    "        }\n",
    "    case 6:\n",
    "    System.out.println(\"Thanks for running this code.\");\n",
    "}\n",
    "}\n",
    "}\n",
    "switchExample.main(null);"
   ]
  },
  {
   "cell_type": "markdown",
   "metadata": {},
   "source": [
    "## De Morgan's Law\n",
    "- De Morgan's Law is a way to negate \"and\" or \"or\" statements in code. Below is a demonstration on how the law works"
   ]
  },
  {
   "cell_type": "code",
   "execution_count": 21,
   "metadata": {
    "vscode": {
     "languageId": "java"
    }
   },
   "outputs": [
    {
     "name": "stdout",
     "output_type": "stream",
     "text": [
      "true\n",
      "true\n"
     ]
    }
   ],
   "source": [
    "import java.util.Scanner;\n",
    "public class deMorgan //define class\n",
    "{\n",
    "    public static void main(String[] args) //java main method\n",
    "{\n",
    "    int a = 0; //initializing variables\n",
    "    int b = 0;\n",
    "\n",
    "    System.out.println(!(a==10 || b==10)); //Will print true if a or b does not equal 10\n",
    "    System.out.println(a!=10 && b!=10); \n",
    "}\n",
    "}\n",
    "deMorgan.main(null);"
   ]
  },
  {
   "cell_type": "markdown",
   "metadata": {},
   "source": [
    "- De Morgan's law can be used in other code. For example between different foods. "
   ]
  },
  {
   "cell_type": "code",
   "execution_count": 1,
   "metadata": {
    "vscode": {
     "languageId": "java"
    }
   },
   "outputs": [
    {
     "name": "stdout",
     "output_type": "stream",
     "text": [
      "Food is not pasta or pizza.\n"
     ]
    }
   ],
   "source": [
    "import java.util.Scanner;\n",
    "public class deMorganExample //define class\n",
    "{\n",
    "    public static void main(String[] args) //java main method\n",
    "{\n",
    "    String food = \"pasta\";\n",
    "    String food2 = \"pizza\";\n",
    "\n",
    "    if (!(food.equals(\"pizza\") || food.equals(\"bread\"))) // Makes !(false value == true value)\n",
    "    {\n",
    "        System.out.println(\"The food is not pasta or pizza.\"); //Will print this\n",
    "    }\n",
    "    else // if not\n",
    "    {\n",
    "        System.out.print(\"Food type is pasta or pizza.\"); //Will print this\n",
    "    }\n",
    "}\n",
    "}\n",
    "deMorganExample.main(null);"
   ]
  }
 ],
 "metadata": {
  "kernelspec": {
   "display_name": "Java",
   "language": "java",
   "name": "java"
  },
  "language_info": {
   "codemirror_mode": "java",
   "file_extension": ".jshell",
   "mimetype": "text/x-java-source",
   "name": "Java",
   "pygments_lexer": "java",
   "version": "11.0.16+8-post-Ubuntu-0ubuntu120.04"
  },
  "orig_nbformat": 4
 },
 "nbformat": 4,
 "nbformat_minor": 2
}
