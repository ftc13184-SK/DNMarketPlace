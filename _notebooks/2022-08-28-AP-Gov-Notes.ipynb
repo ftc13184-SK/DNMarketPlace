{
 "cells": [
  {
   "cell_type": "markdown",
   "metadata": {},
   "source": [
    "# AP Gov Vocab\n",
    "- toc: true \n",
    "- badges: true\n",
    "- comments: true\n",
    "- categories: [jupyter]\n",
    "- image: images/chart-preview.png"
   ]
  },
  {
   "cell_type": "markdown",
   "metadata": {},
   "source": [
    "# Media Bias Notes\n",
    "\n",
    "## Different Types of Media\n",
    "- Print Media \n",
    "- Broadcast Media\n",
    "- Social Media\n",
    "- Talk Radio\n",
    "- The Internet\n",
    "\n",
    "## Roles of the Media\n",
    "- Gatekeeper: the media determines what issues get attention and for the time frame they do\n",
    "- Watchdog: investigative journalsim: Protects the people and the democracy, find things that the government will never tell us\n",
    "- Score Keeper: can help or hurt certain candidates with the news they report (often during an election)\n",
    "- Agenda Setter: Helps determine the national agenda\n",
    "\n",
    "## Types of Media Bias\n",
    "- Bias by Ommission\n",
    "- Bias in photos\n",
    "- Bias by Spin\n",
    "- Bias by repitition\n",
    "- Bias by Selection of Sources\n",
    "- Gatekeeping bias\n",
    "- Connotation \n",
    "- Loaded language \n",
    "\n"
   ]
  }
 ],
 "metadata": {
  "kernelspec": {
   "display_name": "Python 3.8.10 64-bit",
   "language": "python",
   "name": "python3"
  },
  "language_info": {
   "name": "python",
   "version": "3.8.10"
  },
  "orig_nbformat": 4,
  "vscode": {
   "interpreter": {
    "hash": "916dbcbb3f70747c44a77c7bcd40155683ae19c65e1c03b4aa3499c5328201f1"
   }
  }
 },
 "nbformat": 4,
 "nbformat_minor": 2
}
