{
 "cells": [
  {
   "cell_type": "markdown",
   "metadata": {},
   "source": [
    "# APCSA Notes\n",
    "- toc: true \n",
    "- badges: true\n",
    "- comments: true\n",
    "- categories: [jupyter]\n",
    "- image: images/chart-preview.png"
   ]
  },
  {
   "cell_type": "markdown",
   "metadata": {},
   "source": [
    "--- \n",
    "# APCSA Notes\n",
    "## Introduction\n",
    "Computer Science A is a course that is broken into 10 units. Below are the units and some notes for each of them. \n",
    "\n",
    "## Unit 1: Primative Types\n",
    "- boolean: true or false \n",
    "- byte: complement integer\n",
    "- char: one code character\n",
    "- short: twos complement integer\n",
    "- int: integer\n",
    "- long: complement integer\n",
    "- float: decimal values up to 7 digits\n",
    "- double: decimal values up to 16 digits\n",
    "\n",
    "## Unit 2: Using Objects\n",
    "- Java is object-oriented programming (OOP)\n",
    "- Class is used to define a new data type\n",
    "- Class can be compared to a cookie cutter which makes the cookies (objects) \n",
    "- Each class has its own attributes and behaviors \n",
    "- Objects are created in class and are often knwon as instances of a class\n",
    "\n",
    "## Unit 3: Boolean Expressions and if Statements\n",
    "- Boolean expressions are used to check if something is true or false \n"
   ]
  },
  {
   "cell_type": "code",
   "execution_count": 1,
   "metadata": {},
   "outputs": [
    {
     "name": "stdout",
     "output_type": "stream",
     "text": [
      "It is sunny.\n"
     ]
    }
   ],
   "source": [
    "import java.util.Scanner;\n",
    "public class Booleans //define class\n",
    "{\n",
    "    public static void main(String[] args) //java main method\n",
    "{\n",
    "    boolean isSunny = true; //declare the boolean variables\n",
    "    boolean isRainy = false; \n",
    "    if (isSunny)\n",
    "    {\n",
    "        System.out.println(\"It is sunny.\");\n",
    "    }\n",
    "    else\n",
    "    {\n",
    "        System.out.println(\"It is rainy.\");\n",
    "    }\n",
    "}\n",
    "}\n",
    "Booleans.main(null);"
   ]
  },
  {
   "cell_type": "markdown",
   "metadata": {},
   "source": [
    "- If statements are used to check if a condition is met. If a condition is met, the code will do something. Else statements can be used with if statements to tell the code to do something if the first condition is not met\n"
   ]
  },
  {
   "cell_type": "code",
   "execution_count": 2,
   "metadata": {},
   "outputs": [
    {
     "name": "stdout",
     "output_type": "stream",
     "text": [
      "The number is not greater than 2\n"
     ]
    }
   ],
   "source": [
    "import java.util.Scanner;\n",
    "public class Else \n",
    "{\n",
    "    public static void main(String[] args)\n",
    "{\n",
    "    int num = 1; \n",
    "    if (num > 2)\n",
    "    {\n",
    "        System.out.println(\"The number is greater than 2\");\n",
    "    }\n",
    "    else //the computer will run this portion if the number is less than or equal to 2\n",
    "    {\n",
    "        System.out.println(\"The number is not greater than 2\"); //This is what the computer will print\n",
    "    }\n",
    "}\n",
    "}\n",
    "Else.main(null);"
   ]
  },
  {
   "cell_type": "markdown",
   "metadata": {},
   "source": [
    "## Unit 4: Iteration\n",
    "- Repeating actions until a specific condition is met \n",
    "- Three types of iterations\n",
    "    - For Loops\n",
    "    - While Loops\n",
    "    - Recursions\n",
    "## Unit 5: Writing Class\n",
    "- Includes\n",
    "    - Instance variables: stores information about an object created in a class\n",
    "    - Constructors: create new objects\n",
    "    - Methods: show the program a new command; you can write specific methods into your classes\n",
    "## Unit 6: Array\n",
    "- Used for storing multiple values in one variable\n",
    "-square brackete [] used to declare\n",
    "- commas in between curly brackets to store an array (EX: String[] colors = {\"blue\", \"red\" , \"orange}) \n",
    "- you can change an array element with the index number\n",
    "- You can figure out how many elements an array has with \"length\" (EX: System.out.println(color.length);)\n",
    "\n",
    "## Unit 7: ArrayList\n",
    "## Unit 8: 2D Arrary\n",
    "- [row][column]\n",
    "- Basically an array of arrays\n",
    "- Can be declared by data_type[][] array_name = new data_type[x][y]; \n",
    "\n",
    "## Unit 9: Inheritance\n",
    "- Inheritance can be declared by having a child class extend a parent class\n",
    "- This can be used with the fibonacci sequence mini-lab that we did\n",
    "- This can be useful when you want to inherit the same attributed and methods from another class\n",
    "- \"this\" vs \"super\" \n",
    "    - \"this\" is used when referring to the current object in the method\n",
    "    - \"super\" is used to call any superclass method like the parent class\n",
    "\n",
    "## Unit 10: Recursions\n",
    "- A method that calls itself\n",
    "- Kind of like a method that's reflected to each other like two mirrors facing each other\n",
    "\n",
    "# Project Based Learning Notes\n",
    "## Week 1: Fastpages\n",
    "- _notebooks (.ipynb files which lets you use markdown, java, etc.)\n",
    "- _posts with markdown files that can be used to help fronted designing\n",
    "- _word to save documents to your Fastpages\n",
    "- You can edit the front page with the index.html file\n",
    "- You can edit sub pages with the _pages folder\n",
    "- You can also add images under the images folder\n",
    "\n",
    "## Week 2\n",
    "- You can check the versions of different softwares you installed using --version (EX: python --version) for most installations\n",
    "- You can do a lot of frontend work with your different calculators by making a frontend menu that houses them\n",
    "\n",
    "## Week 3\n",
    "- AWS stands for amazon web services and is useful as a compiler to amke your local server \n",
    "\n",
    "## Week 4\n",
    "- Agile methdology can be used to efficently divide up tasks in the scrum team\n",
    "- The scrum master acts as the leader, in sort, of the group, making sure the roles are being followed and maintaining the scrum board\n",
    "- The DevOps role manages AWS deployment and managing POM files\n",
    "- Frontend developers manages what the audience can see and utilize\n",
    "- Backend developers work more on the programming side although all of the team should be code code codeing\n",
    "- A scrum board can be helpful to manage everyone's thoughts and ideas in a way that everyone's voices are heard. It is also a great way to manage tasks for each person in the group and the group itself. \n",
    "\n",
    "## Week 5\n",
    "- Started the trimester project\n",
    "- Trying to make the project as real-world applicable as possible while still code code codeing\n",
    "- My group came up with ideas that we narrowed down together until we finally came up with a market specifically meant for DNHS students to utilize\n",
    "\n",
    "## Week 6\n",
    "- Working with APL and ASCii\n",
    "- API: (Application programming interface) a way for multiple computer programs to communcate with each other \n",
    "- EX: a weather station has a software to detect weather daily. This can be displayed on the weather app on your phone. The weather app communicates with the weather station's software program\n",
    "- RapidAPI: Used to connect API's\n",
    "## Week 7\n",
    "## Week 8\n",
    "## Week 9\n",
    "## Week 10\n",
    "## Week 11"
   ]
  }
 ],
 "metadata": {
  "kernelspec": {
   "display_name": "Java",
   "language": "java",
   "name": "java"
  },
  "language_info": {
   "codemirror_mode": "java",
   "file_extension": ".jshell",
   "mimetype": "text/x-java-source",
   "name": "java",
   "pygments_lexer": "java",
   "version": "11.0.16+8-post-Ubuntu-0ubuntu120.04"
  },
  "orig_nbformat": 4,
  "vscode": {
   "interpreter": {
    "hash": "916dbcbb3f70747c44a77c7bcd40155683ae19c65e1c03b4aa3499c5328201f1"
   }
  }
 },
 "nbformat": 4,
 "nbformat_minor": 2
}
