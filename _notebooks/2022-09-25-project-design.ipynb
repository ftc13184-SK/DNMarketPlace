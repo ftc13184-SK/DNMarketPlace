{
 "cells": [
  {
   "cell_type": "markdown",
   "metadata": {},
   "source": [
    "# Project Background/Design\n",
    "- toc: true \n",
    "- badges: true\n",
    "- comments: true\n",
    "- categories: [jupyter]\n",
    "- image: images/chart-preview.png"
   ]
  },
  {
   "cell_type": "markdown",
   "metadata": {},
   "source": [
    "# Project Ideas \n",
    "## We had multiple ideas at the start but we narrowed it down to one\n",
    "- We had the idea to create an AP Lit website with an organized list of assignments and deadlines that included a place for AP Lit students to chat about different assignments and proects \n",
    "- We also had an idea to make a data collector for AP Stats where we are starting our first data collecting project\n",
    "- We also considered a website modeled after Goodreads but specifically for DNHS students to find and rate books\n",
    "- One of the final ideas we considered was a market place also soley for DNHS students for secondhand books and clothing. \n",
    "\n",
    "- We decided on the marketplace as we had more ideas as to how to impliment the design properly "
   ]
  },
  {
   "cell_type": "markdown",
   "metadata": {},
   "source": [
    "## Interests \n",
    "- We all have different interests for why we wanted to do the project \n",
    "- Shraddha: Liked the fact that many single use items like dance dresses and ap test books would be able to be sold to others at Del Norte for future generations usage"
   ]
  }
 ],
 "metadata": {
  "kernelspec": {
   "display_name": "Python 3.8.10 64-bit",
   "language": "python",
   "name": "python3"
  },
  "language_info": {
   "name": "python",
   "version": "3.8.10"
  },
  "orig_nbformat": 4,
  "vscode": {
   "interpreter": {
    "hash": "916dbcbb3f70747c44a77c7bcd40155683ae19c65e1c03b4aa3499c5328201f1"
   }
  }
 },
 "nbformat": 4,
 "nbformat_minor": 2
}
