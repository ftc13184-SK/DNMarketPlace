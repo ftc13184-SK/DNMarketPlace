{
 "cells": [
  {
   "cell_type": "markdown",
   "metadata": {},
   "source": [
    "# Primitives Hack Temperature Converter\n",
    "- toc: true \n",
    "- badges: true\n",
    "- comments: true\n",
    "- categories: [jupyter]\n",
    "- image: images/chart-preview.png"
   ]
  },
  {
   "cell_type": "code",
   "execution_count": 1,
   "metadata": {},
   "outputs": [
    {
     "name": "stdout",
     "output_type": "stream",
     "text": [
      "Enter in 1 to convert from Fahrenheit to Celsius or 2 to convert from Celsius to Fahrenheit.\n",
      "Please enter a temperature.\n",
      "-1.1111111111111112\n"
     ]
    }
   ],
   "source": [
    "import java.util.Scanner;\n",
    "public class newPrimatives\n",
    "{\n",
    "    public static void main(String[] args)\n",
    "{\n",
    "    \n",
    "    Scanner keyboard = new Scanner(System.in);\n",
    "    System.out.println(\"Enter in 1 to convert from Fahrenheit to Celsius or 2 to convert from Celsius to Fahrenheit.\");\n",
    "    int conversionDeterminer = keyboard.nextInt();\n",
    "    System.out.println(\"Please enter a temperature.\");\n",
    "    int originalTemp = keyboard.nextInt();\n",
    "    double convertedTemp;\n",
    "\n",
    "   if(conversionDeterminer == 1)\n",
    "   {\n",
    "        convertedTemp = (originalTemp - 32) * (5.0/9);\n",
    "        System.out.println(convertedTemp);\n",
    "   }\n",
    "   else if(conversionDeterminer == 2)\n",
    "   {\n",
    "        convertedTemp = originalTemp * (9.0/5) + 32;\n",
    "        System.out.println(convertedTemp);\n",
    "   }\n",
    "   else\n",
    "   {\n",
    "        System.out.println(\"Sorry, that input is not valid. Please try running the program again.\");\n",
    "   }\n",
    "\n",
    "}\n",
    "}\n",
    "newPrimatives.main(null);"
   ]
  }
 ],
 "metadata": {
  "kernelspec": {
   "display_name": "Java",
   "language": "java",
   "name": "java"
  },
  "language_info": {
   "codemirror_mode": "java",
   "file_extension": ".jshell",
   "mimetype": "text/x-java-source",
   "name": "java",
   "pygments_lexer": "java",
   "version": "11.0.16+8-post-Ubuntu-0ubuntu120.04"
  },
  "orig_nbformat": 4,
  "vscode": {
   "interpreter": {
    "hash": "916dbcbb3f70747c44a77c7bcd40155683ae19c65e1c03b4aa3499c5328201f1"
   }
  }
 },
 "nbformat": 4,
 "nbformat_minor": 2
}
