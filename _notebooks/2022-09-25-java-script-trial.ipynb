{
 "cells": [
  {
   "cell_type": "markdown",
   "metadata": {},
   "source": [
    "# JavaScript Lesson \n",
    "- toc: true \n",
    "- badges: true\n",
    "- comments: true\n",
    "- categories: [jupyter]\n",
    "- image: images/chart-preview.png"
   ]
  },
  {
   "cell_type": "markdown",
   "metadata": {},
   "source": [
    "# Basics of JavaScript\n",
    "## How to print a simple statement"
   ]
  },
  {
   "cell_type": "code",
   "execution_count": 1,
   "metadata": {},
   "outputs": [
    {
     "name": "stdout",
     "output_type": "stream",
     "text": [
      "Hello World.\n"
     ]
    }
   ],
   "source": [
    "console.log('Hello World.'); //How to print \"Hello World\""
   ]
  },
  {
   "cell_type": "markdown",
   "metadata": {},
   "source": [
    "## How to declare variables in JavaScript\n",
    "- You can declare a variable using the two statements below\n",
    "- NOTE: JavaScript is case sensitive like Java"
   ]
  },
  {
   "cell_type": "code",
   "execution_count": null,
   "metadata": {},
   "outputs": [],
   "source": [
    "let newVariable;\n",
    "myVariable = 'Shraddha';  "
   ]
  },
  {
   "cell_type": "markdown",
   "metadata": {},
   "source": [
    "- You can also declare a variable with one line of code"
   ]
  },
  {
   "cell_type": "code",
   "execution_count": null,
   "metadata": {},
   "outputs": [],
   "source": [
    "let newVariable = 'Shraddha'; "
   ]
  },
  {
   "cell_type": "markdown",
   "metadata": {},
   "source": [
    "## How to declare different types of variables "
   ]
  },
  {
   "cell_type": "markdown",
   "metadata": {},
   "source": [
    "- A string variable is used for a value, like a word\n",
    "    - Make sure to include single quotation marks\n",
    "- A number variable can be used by simply declaring the variable equal to the value of the number\n",
    "- Booleans, like in java, can be used by letting the variable equal either true or false\n",
    "- An Array can be used to store multiple values in one \n",
    "- You can store an object as a variable in JavaScript, which is a little different from in Java"
   ]
  },
  {
   "cell_type": "code",
   "execution_count": null,
   "metadata": {},
   "outputs": [],
   "source": [
    "let newString = 'Shraddha'; //String variable\n",
    "let newNumber = 5; //Number variable\n",
    "let newBoolean = true; //Boolean variable\n",
    "let newArray = [1, 'Shraddha'. 5]; //Array variable\n",
    "let newObject = document.querySelector('a1'); //Object as a variable"
   ]
  },
  {
   "cell_type": "markdown",
   "metadata": {},
   "source": [
    "## iJavaScript $$.async()\n",
    "- This is used to request synchronous code. This will then evaluate the code and be ready to get more requests"
   ]
  },
  {
   "cell_type": "code",
   "execution_count": 4,
   "metadata": {},
   "outputs": [
    {
     "name": "stdout",
     "output_type": "stream",
     "text": [
      "Hello, World!\n"
     ]
    }
   ],
   "source": [
    "$$.async();\n",
    "\n",
    "console.log(\"Hello, World!\");\n",
    "\n",
    "setTimeout($$.done, 1000)"
   ]
  },
  {
   "cell_type": "markdown",
   "metadata": {},
   "source": [
    "- You can aso add a timer to print a line of code after a while"
   ]
  },
  {
   "cell_type": "code",
   "execution_count": 5,
   "metadata": {},
   "outputs": [
    {
     "data": {
      "text/plain": [
       "'Goodbye!'"
      ]
     },
     "execution_count": 5,
     "metadata": {},
     "output_type": "execute_result"
    }
   ],
   "source": [
    "$$.async();\n",
    "\n",
    "console.log(\"Hello, World!\"); //How to print \"Hello World\" wih JavaScript\n",
    "\n",
    "var action = {\n",
    "    $$: $$,\n",
    "    console: console,\n",
    "};\n",
    "\n",
    "setTimeout(function() {\n",
    "    $$.clear(0);    // clear output cell\n",
    "    action.$$.sendResult(\"Goodbye!\");\n",
    "}, 5000);  // 5 second timer"
   ]
  },
  {
   "cell_type": "markdown",
   "metadata": {},
   "source": [
    "## Building an Array with my Scrumtean"
   ]
  },
  {
   "cell_type": "code",
   "execution_count": null,
   "metadata": {},
   "outputs": [],
   "source": [
    "// define a student Array of Person(s)\n",
    "var students = [ \n",
    "    new Person(\"Shraddha\", \"ftc13184-SK\", 2023),\n",
    "    new Person(\"Pravavi\", \"PranaviInukurti\", 2023),\n",
    "    new Person(\"Madhumita\", \"mnarayan\", 2023),\n",
    "    new Person(\"Meena\", \"MAnn, 2023),\n",
    "    new Person(\"Rebecca\", \"Rebecca-123\", 2023)\n",
    "];\n",
    "\n",
    "// define a classroom and build Classroom objects and json\n",
    "function Classroom(teacher, students){ // 1 teacher, many student\n",
    "    // start Classroom with Teacher\n",
    "    teacher.setRole(\"Teacher\");\n",
    "    this.teacher = teacher;\n",
    "    this.classroom = [teacher];\n",
    "    // add each Student to Classroom\n",
    "    this.students = students;\n",
    "    this.students.forEach(student => { student.setRole(\"Student\"); this.classroom.push(student); });\n",
    "    // build json/string format of Classroom\n",
    "    this.json = [];\n",
    "    this.classroom.forEach(person => this.json.push(person.toJSON()));\n",
    "}\n",
    "\n",
    "// make a CompSci classroom from formerly defined teacher and students\n",
    "compsci = new Classroom(teacher, students);\n",
    "\n",
    "// output of Objects and JSON in CompSci classroom\n",
    "logItType(compsci.classroom);  // constructed classroom object\n",
    "logItType(compsci.classroom[0].name);  // abstract 1st objects name\n",
    "logItType(compsci.json[0]);  // show json conversion of 1st object to string\n",
    "logItType(JSON.parse(compsci.json[0]));  // show JSON.parse inverse of JSON.stringify\n",
    "object ; [ Person { name: 'Mr M', ghID: 'jm1021', classOf: 1977, role: 'Teacher' },\n",
    "  Person {\n",
    "    name: 'Anthony',\n",
    "    ghID: 'tonyhieu',\n",
    "    classOf: 2022,\n",
    "    role: 'Student' },\n",
    "  Person { name: 'Bria', ghID: 'B-G101', classOf: 2023, role: 'Student' },\n",
    "  Person { name: 'Allie', ghID: 'xiaoa0', classOf: 2023, role: 'Student' },\n",
    "  Person {\n",
    "    name: 'Tigran',\n",
    "    ghID: 'Tigran7',\n",
    "    classOf: 2023,\n",
    "    role: 'Student' },\n",
    "  Person {\n",
    "    name: 'Rebecca',\n",
    "    ghID: 'Rebecca-123',\n",
    "    classOf: 2023,\n",
    "    role: 'Student' } ]\n",
    "string ; Mr M\n",
    "string ; {\"name\":\"Mr M\",\"ghID\":\"jm1021\",\"classOf\":1977,\"role\":\"Teacher\"}\n",
    "object ; { name: 'Mr M', ghID: 'jm1021', classOf: 1977, role: 'Teacher' }"
   ]
  }
 ],
 "metadata": {
  "kernelspec": {
   "display_name": "JavaScript (Node.js)",
   "language": "javascript",
   "name": "javascript"
  },
  "language_info": {
   "file_extension": ".js",
   "mimetype": "application/javascript",
   "name": "javascript",
   "version": "6.11.2"
  },
  "orig_nbformat": 4,
  "vscode": {
   "interpreter": {
    "hash": "916dbcbb3f70747c44a77c7bcd40155683ae19c65e1c03b4aa3499c5328201f1"
   }
  }
 },
 "nbformat": 4,
 "nbformat_minor": 2
}
