{
 "cells": [
  {
   "cell_type": "markdown",
   "metadata": {},
   "source": [
    "# Statistics Calculator\n",
    "- toc: true \n",
    "- badges: true\n",
    "- comments: true\n",
    "- categories: [jupyter]\n",
    "- image: images/chart-preview.png"
   ]
  },
  {
   "cell_type": "code",
   "execution_count": null,
   "metadata": {
    "vscode": {
     "languageId": "java"
    }
   },
   "outputs": [],
   "source": [
    "import java.util.Scanner;\n",
    "public class newCalculator\n",
    "{\n",
    "    public static void main(String[] args)\n",
    "{\n",
    "    Scanner keyboard = new Scanner(System.in);\n",
    "    System.out.println(\"Please enter a number.\");\n",
    "\tint n=keyboard.nextInt();\n",
    "\tdouble[] input=new double[n];\n",
    "\tdouble sum = 0,mean;\n",
    "\tSystem.out.println(\"enter n elements\");\t\n",
    "\tfor(int i=0; i<n ;i++) \n",
    "\t{\n",
    "\t\tinput[i]=keyboard.nextDouble();\n",
    "\t\tsum=sum+input[i];\n",
    "\t}\n",
    "       \tmean = sum/n;\n",
    "       \tSystem.out.println(\"Mean =  \"+mean);\n",
    "\tsum = 0;  \n",
    "\tfor(int i = 0; i<n; i++) \n",
    "\t{\n",
    "\t\tsum+=Math.pow((input[i]-mean),2);\n",
    "\t}\n",
    "\tmean = sum/(n-1);\n",
    "\tdouble SD = Math.sqrt(mean);\n",
    "\tSystem.out.println(\"Standard Deviation = \"+ SD);\n",
    "}\n",
    "}\n",
    "newConsole.main(null);"
   ]
  }
 ],
 "metadata": {
  "kernelspec": {
   "display_name": "Java",
   "language": "java",
   "name": "java"
  },
  "language_info": {
   "codemirror_mode": "java",
   "file_extension": ".jshell",
   "mimetype": "text/x-java-source",
   "name": "Java",
   "pygments_lexer": "java",
   "version": "11.0.16+8-post-Ubuntu-0ubuntu120.04"
  },
  "orig_nbformat": 4
 },
 "nbformat": 4,
 "nbformat_minor": 2
}
