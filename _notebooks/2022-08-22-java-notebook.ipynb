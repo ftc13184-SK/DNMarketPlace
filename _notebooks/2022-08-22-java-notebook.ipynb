{
 "cells": [
  {
   "cell_type": "markdown",
   "metadata": {
    "vscode": {
     "languageId": "java"
    }
   },
   "source": [
    "# Fastpages Notebook Blog Post\n",
    "> Java Jupyter Notebook\n",
    "\n",
    "- toc: true \n",
    "- badges: true\n",
    "- comments: true\n",
    "- categories: [jupyter]\n",
    "- image: images/chart-preview.png"
   ]
  },
  {
   "cell_type": "markdown",
   "metadata": {},
   "source": [
    "# Java Notebook"
   ]
  },
  {
   "cell_type": "code",
   "execution_count": 7,
   "metadata": {},
   "outputs": [
    {
     "name": "stdout",
     "output_type": "stream",
     "text": [
      "Hello World\n",
      "This is my Java Notebook.\n",
      "Welcome!\n"
     ]
    }
   ],
   "source": [
    "System.out.println(\"Hello World\");\n",
    "System.out.println(\"This is my Java Notebook.\");\n",
    "System.out.println(\"Welcome!\");"
   ]
  },
  {
   "cell_type": "code",
   "execution_count": null,
   "metadata": {},
   "outputs": [],
   "source": [
    "python --version\n",
    "python2 --version"
   ]
  }
 ],
 "metadata": {
  "kernelspec": {
   "display_name": "Java",
   "language": "java",
   "name": "java"
  },
  "language_info": {
   "codemirror_mode": "java",
   "file_extension": ".jshell",
   "mimetype": "text/x-java-source",
   "name": "java",
   "pygments_lexer": "java",
   "version": "11.0.16+8-post-Ubuntu-0ubuntu120.04"
  },
  "orig_nbformat": 4,
  "vscode": {
   "interpreter": {
    "hash": "4563d78b2226fe0d2de7fff596497fde819722a6c9df9474736ce2615a00abfa"
   }
  }
 },
 "nbformat": 4,
 "nbformat_minor": 2
}
